{
 "cells": [
  {
   "cell_type": "code",
   "execution_count": 1,
   "id": "0965baed-1e62-4b9b-883b-ead7d5c4bca6",
   "metadata": {},
   "outputs": [
    {
     "name": "stdout",
     "output_type": "stream",
     "text": [
      "Requirement already satisfied: numpy in /Applications/anaconda3/lib/python3.11/site-packages (1.26.4)\n"
     ]
    }
   ],
   "source": [
    "!pip install numpy"
   ]
  },
  {
   "cell_type": "code",
   "execution_count": 2,
   "id": "f687a71f-5bc9-423d-9d6f-72d62aa4635b",
   "metadata": {},
   "outputs": [],
   "source": [
    "import numpy as np"
   ]
  },
  {
   "cell_type": "code",
   "execution_count": 4,
   "id": "4e4d9145-681e-4680-9939-a016dce03357",
   "metadata": {},
   "outputs": [],
   "source": [
    "arr = np.array([3, -7, 1, 4, 2])"
   ]
  },
  {
   "cell_type": "code",
   "execution_count": 9,
   "id": "c07af15d-902c-48e5-8ae7-a08c29ec2fc9",
   "metadata": {},
   "outputs": [
    {
     "data": {
      "text/plain": [
       "array([ 3, -7,  1,  4,  2])"
      ]
     },
     "execution_count": 9,
     "metadata": {},
     "output_type": "execute_result"
    }
   ],
   "source": [
    "arr"
   ]
  },
  {
   "cell_type": "code",
   "execution_count": 8,
   "id": "43e51a65-92ba-4728-852f-08950fbaccc5",
   "metadata": {},
   "outputs": [
    {
     "data": {
      "text/plain": [
       "numpy.ndarray"
      ]
     },
     "execution_count": 8,
     "metadata": {},
     "output_type": "execute_result"
    }
   ],
   "source": [
    "type(arr)"
   ]
  },
  {
   "cell_type": "code",
   "execution_count": 10,
   "id": "42a71e02-7194-4886-a867-70421df554e2",
   "metadata": {},
   "outputs": [],
   "source": [
    "sorted_indices = np.argsort(arr)"
   ]
  },
  {
   "cell_type": "code",
   "execution_count": 11,
   "id": "a4f248e9-305d-4ccd-8d6c-7dc931bb827a",
   "metadata": {},
   "outputs": [
    {
     "data": {
      "text/plain": [
       "array([1, 2, 4, 0, 3])"
      ]
     },
     "execution_count": 11,
     "metadata": {},
     "output_type": "execute_result"
    }
   ],
   "source": [
    "sorted_indices"
   ]
  },
  {
   "cell_type": "code",
   "execution_count": 14,
   "id": "7cdb567d-e862-49b9-ad6c-757a075c9ca8",
   "metadata": {},
   "outputs": [
    {
     "name": "stdout",
     "output_type": "stream",
     "text": [
      "Indices for sorted array: [1 2 4 0 3]\n"
     ]
    }
   ],
   "source": [
    "print(\"Indices for sorted array:\", sorted_indices)"
   ]
  },
  {
   "cell_type": "code",
   "execution_count": 16,
   "id": "ccf336f5-b956-4fd2-9b91-cb336f27e75c",
   "metadata": {},
   "outputs": [
    {
     "name": "stdout",
     "output_type": "stream",
     "text": [
      "[-7  1  2  3  4]\n"
     ]
    }
   ],
   "source": [
    "print(arr[sorted_indices])"
   ]
  },
  {
   "cell_type": "code",
   "execution_count": 17,
   "id": "89b5677e-2887-4216-9e93-772c6b5206a8",
   "metadata": {},
   "outputs": [],
   "source": [
    "result = np.where(arr > 1, arr, 0)"
   ]
  },
  {
   "cell_type": "code",
   "execution_count": 18,
   "id": "04b8b1a0-d607-4621-9f62-d32d023b9c21",
   "metadata": {},
   "outputs": [
    {
     "data": {
      "text/plain": [
       "array([3, 0, 0, 4, 2])"
      ]
     },
     "execution_count": 18,
     "metadata": {},
     "output_type": "execute_result"
    }
   ],
   "source": [
    "result"
   ]
  },
  {
   "cell_type": "code",
   "execution_count": 19,
   "id": "f2a7034a-0915-4fe0-b05c-f494d44ddd6a",
   "metadata": {},
   "outputs": [
    {
     "data": {
      "text/plain": [
       "array([3, 7, 1, 4, 2])"
      ]
     },
     "execution_count": 19,
     "metadata": {},
     "output_type": "execute_result"
    }
   ],
   "source": [
    "abs_values = np.abs(arr)\n",
    "abs_values"
   ]
  },
  {
   "cell_type": "code",
   "execution_count": null,
   "id": "dc03a211-8209-42c9-82ae-22b310621eb4",
   "metadata": {},
   "outputs": [],
   "source": []
  }
 ],
 "metadata": {
  "kernelspec": {
   "display_name": "Python 3 (ipykernel)",
   "language": "python",
   "name": "python3"
  },
  "language_info": {
   "codemirror_mode": {
    "name": "ipython",
    "version": 3
   },
   "file_extension": ".py",
   "mimetype": "text/x-python",
   "name": "python",
   "nbconvert_exporter": "python",
   "pygments_lexer": "ipython3",
   "version": "3.11.7"
  }
 },
 "nbformat": 4,
 "nbformat_minor": 5
}
